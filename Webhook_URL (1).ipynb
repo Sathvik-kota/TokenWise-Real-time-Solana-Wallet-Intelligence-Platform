{
 "cells": [
  {
   "cell_type": "code",
   "execution_count": 1,
   "id": "e2ed7915-de1f-4017-af41-1687eecef600",
   "metadata": {},
   "outputs": [
    {
     "name": "stdout",
     "output_type": "stream",
     "text": [
      "Requirement already satisfied: fastapi in c:\\users\\global\\anaconda3\\lib\\site-packages (0.115.14)\n",
      "Requirement already satisfied: uvicorn in c:\\users\\global\\anaconda3\\lib\\site-packages (0.35.0)\n",
      "Requirement already satisfied: nest-asyncio in c:\\users\\global\\anaconda3\\lib\\site-packages (1.6.0)\n",
      "Requirement already satisfied: pyngrok in c:\\users\\global\\anaconda3\\lib\\site-packages (7.2.11)\n",
      "Requirement already satisfied: starlette<0.47.0,>=0.40.0 in c:\\users\\global\\anaconda3\\lib\\site-packages (from fastapi) (0.46.2)\n",
      "Requirement already satisfied: pydantic!=1.8,!=1.8.1,!=2.0.0,!=2.0.1,!=2.1.0,<3.0.0,>=1.7.4 in c:\\users\\global\\appdata\\roaming\\python\\python312\\site-packages (from fastapi) (2.11.3)\n",
      "Requirement already satisfied: typing-extensions>=4.8.0 in c:\\users\\global\\anaconda3\\lib\\site-packages (from fastapi) (4.14.1)\n",
      "Requirement already satisfied: click>=7.0 in c:\\users\\global\\anaconda3\\lib\\site-packages (from uvicorn) (8.1.7)\n",
      "Requirement already satisfied: h11>=0.8 in c:\\users\\global\\anaconda3\\lib\\site-packages (from uvicorn) (0.14.0)\n",
      "Requirement already satisfied: PyYAML>=5.1 in c:\\users\\global\\anaconda3\\lib\\site-packages (from pyngrok) (6.0.1)\n",
      "Requirement already satisfied: colorama in c:\\users\\global\\anaconda3\\lib\\site-packages (from click>=7.0->uvicorn) (0.4.6)\n",
      "Requirement already satisfied: annotated-types>=0.6.0 in c:\\users\\global\\anaconda3\\lib\\site-packages (from pydantic!=1.8,!=1.8.1,!=2.0.0,!=2.0.1,!=2.1.0,<3.0.0,>=1.7.4->fastapi) (0.6.0)\n",
      "Requirement already satisfied: pydantic-core==2.33.1 in c:\\users\\global\\anaconda3\\lib\\site-packages (from pydantic!=1.8,!=1.8.1,!=2.0.0,!=2.0.1,!=2.1.0,<3.0.0,>=1.7.4->fastapi) (2.33.1)\n",
      "Requirement already satisfied: typing-inspection>=0.4.0 in c:\\users\\global\\anaconda3\\lib\\site-packages (from pydantic!=1.8,!=1.8.1,!=2.0.0,!=2.0.1,!=2.1.0,<3.0.0,>=1.7.4->fastapi) (0.4.0)\n",
      "Requirement already satisfied: anyio<5,>=3.6.2 in c:\\users\\global\\anaconda3\\lib\\site-packages (from starlette<0.47.0,>=0.40.0->fastapi) (4.2.0)\n",
      "Requirement already satisfied: idna>=2.8 in c:\\users\\global\\anaconda3\\lib\\site-packages (from anyio<5,>=3.6.2->starlette<0.47.0,>=0.40.0->fastapi) (3.7)\n",
      "Requirement already satisfied: sniffio>=1.1 in c:\\users\\global\\anaconda3\\lib\\site-packages (from anyio<5,>=3.6.2->starlette<0.47.0,>=0.40.0->fastapi) (1.3.0)\n"
     ]
    }
   ],
   "source": [
    "!pip install fastapi uvicorn nest-asyncio pyngrok\n"
   ]
  },
  {
   "cell_type": "code",
   "execution_count": 3,
   "id": "84b1f72b-909c-4a9d-a947-d9298ac0bcfc",
   "metadata": {},
   "outputs": [
    {
     "name": "stdout",
     "output_type": "stream",
     "text": [
      "✅ ngrok token configured!\n"
     ]
    }
   ],
   "source": [
    "from pyngrok import conf\n",
    "\n",
    "# Paste your token here\n",
    "ngrok_auth_token = \"2wwrghyfuHRS5ipbFGHcXbceafq_69z2V5DNkAUEPnptkBE4y\"\n",
    "\n",
    "conf.get_default().auth_token = ngrok_auth_token\n",
    "print(\"✅ ngrok token configured!\")\n"
   ]
  },
  {
   "cell_type": "code",
   "execution_count": 5,
   "id": "74d80fd4-94cb-48f8-9890-6e2754ead58c",
   "metadata": {},
   "outputs": [
    {
     "name": "stdout",
     "output_type": "stream",
     "text": [
      "🚀 Your public webhook URL: NgrokTunnel: \"https://9af2999b092b.ngrok-free.app\" -> \"http://localhost:8000\"\n"
     ]
    }
   ],
   "source": [
    "from pyngrok import ngrok\n",
    "\n",
    "# 🔗 Expose port 8000 where Flask is running\n",
    "public_url = ngrok.connect(8000)\n",
    "print(\"🚀 Your public webhook URL:\", public_url)\n"
   ]
  },
  {
   "cell_type": "code",
   "execution_count": null,
   "id": "8ad6547d-3b61-4647-b1e1-e48a675233b4",
   "metadata": {},
   "outputs": [],
   "source": []
  }
 ],
 "metadata": {
  "kernelspec": {
   "display_name": "Python 3 (ipykernel)",
   "language": "python",
   "name": "python3"
  },
  "language_info": {
   "codemirror_mode": {
    "name": "ipython",
    "version": 3
   },
   "file_extension": ".py",
   "mimetype": "text/x-python",
   "name": "python",
   "nbconvert_exporter": "python",
   "pygments_lexer": "ipython3",
   "version": "3.12.7"
  }
 },
 "nbformat": 4,
 "nbformat_minor": 5
}
